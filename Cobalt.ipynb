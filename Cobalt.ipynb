{
 "cells": [
  {
   "cell_type": "code",
   "execution_count": 1,
   "metadata": {},
   "outputs": [],
   "source": [
    "import pandas as pd\n",
    "import seaborn as sns\n",
    "import matplotlib.pyplot as plt\n",
    "import regex as re\n",
    "sns.set_context(\"poster\")\n",
    "sns.set(rc={\"figure.figsize\": (11.7,8.27)})\n",
    "sns.set_style(\"whitegrid\")\n",
    "%matplotlib inline"
   ]
  },
  {
   "cell_type": "markdown",
   "metadata": {},
   "source": [
    "# Cobalt"
   ]
  },
  {
   "cell_type": "code",
   "execution_count": 3,
   "metadata": {},
   "outputs": [
    {
     "name": "stdout",
     "output_type": "stream",
     "text": [
      "(148, 6)\n"
     ]
    },
    {
     "data": {
      "text/html": [
       "<div>\n",
       "<style scoped>\n",
       "    .dataframe tbody tr th:only-of-type {\n",
       "        vertical-align: middle;\n",
       "    }\n",
       "\n",
       "    .dataframe tbody tr th {\n",
       "        vertical-align: top;\n",
       "    }\n",
       "\n",
       "    .dataframe thead th {\n",
       "        text-align: right;\n",
       "    }\n",
       "</style>\n",
       "<table border=\"1\" class=\"dataframe\">\n",
       "  <thead>\n",
       "    <tr style=\"text-align: right;\">\n",
       "      <th></th>\n",
       "      <th>Continent ID</th>\n",
       "      <th>Continent</th>\n",
       "      <th>Country ID</th>\n",
       "      <th>Country</th>\n",
       "      <th>ISO 3</th>\n",
       "      <th>Trade Value</th>\n",
       "    </tr>\n",
       "  </thead>\n",
       "  <tbody>\n",
       "    <tr>\n",
       "      <th>143</th>\n",
       "      <td>sa</td>\n",
       "      <td>South America</td>\n",
       "      <td>saguy</td>\n",
       "      <td>Guyana</td>\n",
       "      <td>guy</td>\n",
       "      <td>77376.0</td>\n",
       "    </tr>\n",
       "    <tr>\n",
       "      <th>144</th>\n",
       "      <td>sa</td>\n",
       "      <td>South America</td>\n",
       "      <td>saper</td>\n",
       "      <td>Peru</td>\n",
       "      <td>per</td>\n",
       "      <td>166909.0</td>\n",
       "    </tr>\n",
       "    <tr>\n",
       "      <th>145</th>\n",
       "      <td>sa</td>\n",
       "      <td>South America</td>\n",
       "      <td>sapry</td>\n",
       "      <td>Paraguay</td>\n",
       "      <td>pry</td>\n",
       "      <td>15185.0</td>\n",
       "    </tr>\n",
       "    <tr>\n",
       "      <th>146</th>\n",
       "      <td>sa</td>\n",
       "      <td>South America</td>\n",
       "      <td>sasur</td>\n",
       "      <td>Suriname</td>\n",
       "      <td>sur</td>\n",
       "      <td>4351.0</td>\n",
       "    </tr>\n",
       "    <tr>\n",
       "      <th>147</th>\n",
       "      <td>sa</td>\n",
       "      <td>South America</td>\n",
       "      <td>saury</td>\n",
       "      <td>Uruguay</td>\n",
       "      <td>ury</td>\n",
       "      <td>81620.0</td>\n",
       "    </tr>\n",
       "  </tbody>\n",
       "</table>\n",
       "</div>"
      ],
      "text/plain": [
       "    Continent ID      Continent Country ID   Country ISO 3  Trade Value\n",
       "143           sa  South America      saguy    Guyana   guy      77376.0\n",
       "144           sa  South America      saper      Peru   per     166909.0\n",
       "145           sa  South America      sapry  Paraguay   pry      15185.0\n",
       "146           sa  South America      sasur  Suriname   sur       4351.0\n",
       "147           sa  South America      saury   Uruguay   ury      81620.0"
      ]
     },
     "execution_count": 3,
     "metadata": {},
     "output_type": "execute_result"
    }
   ],
   "source": [
    "cob_importers = pd.read_csv('data/Cobalt/Importers-of-Cobalt-2019.csv')\n",
    "print(cob_importers.shape)\n",
    "\n",
    "cob_importers.tail()"
   ]
  },
  {
   "cell_type": "code",
   "execution_count": 5,
   "metadata": {},
   "outputs": [],
   "source": [
    "cob_importers.to_excel('/mnt/c/Users/Palmira/Desktop/Ironhack/final_project/data/Cobalt/cob_importers.xls', index=False)"
   ]
  },
  {
   "cell_type": "code",
   "execution_count": 7,
   "metadata": {},
   "outputs": [
    {
     "name": "stdout",
     "output_type": "stream",
     "text": [
      "(534, 7)\n"
     ]
    },
    {
     "data": {
      "text/html": [
       "<div>\n",
       "<style scoped>\n",
       "    .dataframe tbody tr th:only-of-type {\n",
       "        vertical-align: middle;\n",
       "    }\n",
       "\n",
       "    .dataframe tbody tr th {\n",
       "        vertical-align: top;\n",
       "    }\n",
       "\n",
       "    .dataframe thead th {\n",
       "        text-align: right;\n",
       "    }\n",
       "</style>\n",
       "<table border=\"1\" class=\"dataframe\">\n",
       "  <thead>\n",
       "    <tr style=\"text-align: right;\">\n",
       "      <th></th>\n",
       "      <th>Date</th>\n",
       "      <th>Price</th>\n",
       "      <th>Open</th>\n",
       "      <th>High</th>\n",
       "      <th>Low</th>\n",
       "      <th>Vol.</th>\n",
       "      <th>Change %</th>\n",
       "    </tr>\n",
       "  </thead>\n",
       "  <tbody>\n",
       "    <tr>\n",
       "      <th>529</th>\n",
       "      <td>Jan 15 2012</td>\n",
       "      <td>33290.0</td>\n",
       "      <td>33290.0</td>\n",
       "      <td>33290.0</td>\n",
       "      <td>33290.0</td>\n",
       "      <td>0.03K</td>\n",
       "      <td>0.14</td>\n",
       "    </tr>\n",
       "    <tr>\n",
       "      <th>530</th>\n",
       "      <td>Jan 08 2012</td>\n",
       "      <td>33242.0</td>\n",
       "      <td>33242.0</td>\n",
       "      <td>33242.0</td>\n",
       "      <td>33242.0</td>\n",
       "      <td>0.07K</td>\n",
       "      <td>4.01</td>\n",
       "    </tr>\n",
       "    <tr>\n",
       "      <th>531</th>\n",
       "      <td>Jan 01 2012</td>\n",
       "      <td>31959.0</td>\n",
       "      <td>31959.0</td>\n",
       "      <td>31959.0</td>\n",
       "      <td>31959.0</td>\n",
       "      <td>-</td>\n",
       "      <td>6.64</td>\n",
       "    </tr>\n",
       "    <tr>\n",
       "      <th>532</th>\n",
       "      <td>Dec 25 2011</td>\n",
       "      <td>29970.0</td>\n",
       "      <td>29970.0</td>\n",
       "      <td>29970.0</td>\n",
       "      <td>29970.0</td>\n",
       "      <td>-</td>\n",
       "      <td>-4.20</td>\n",
       "    </tr>\n",
       "    <tr>\n",
       "      <th>533</th>\n",
       "      <td>Dec 18 2011</td>\n",
       "      <td>31284.0</td>\n",
       "      <td>31284.0</td>\n",
       "      <td>31284.0</td>\n",
       "      <td>31284.0</td>\n",
       "      <td>0.51K</td>\n",
       "      <td>-1.93</td>\n",
       "    </tr>\n",
       "  </tbody>\n",
       "</table>\n",
       "</div>"
      ],
      "text/plain": [
       "            Date    Price     Open     High      Low   Vol.  Change %\n",
       "529  Jan 15 2012  33290.0  33290.0  33290.0  33290.0  0.03K      0.14\n",
       "530  Jan 08 2012  33242.0  33242.0  33242.0  33242.0  0.07K      4.01\n",
       "531  Jan 01 2012  31959.0  31959.0  31959.0  31959.0      -      6.64\n",
       "532  Dec 25 2011  29970.0  29970.0  29970.0  29970.0      -     -4.20\n",
       "533  Dec 18 2011  31284.0  31284.0  31284.0  31284.0  0.51K     -1.93"
      ]
     },
     "execution_count": 7,
     "metadata": {},
     "output_type": "execute_result"
    }
   ],
   "source": [
    "cob_price = pd.read_csv('data/Cobalt/Cobalt Futures Historical Data.csv')\n",
    "print(cob_price.shape)\n",
    "\n",
    "cob_price.tail()"
   ]
  },
  {
   "cell_type": "code",
   "execution_count": 8,
   "metadata": {},
   "outputs": [],
   "source": [
    "cob_price.drop(axis=0, index=None, columns = ['Vol.'],inplace=True)"
   ]
  },
  {
   "cell_type": "code",
   "execution_count": 9,
   "metadata": {},
   "outputs": [],
   "source": [
    "cob_price.to_excel('/mnt/c/Users/Palmira/Desktop/Ironhack/final_project/data/Cobalt/cob_price.xls', index=False)"
   ]
  },
  {
   "cell_type": "markdown",
   "metadata": {},
   "source": [
    "Data on usage:"
   ]
  },
  {
   "cell_type": "code",
   "execution_count": 37,
   "metadata": {},
   "outputs": [],
   "source": [
    "Cob_use_dict = {'Year': {0: 2006,\n",
    "  1: 2016,\n",
    "  2: 2020},\n",
    " 'Other': {0: 34,\n",
    "  1: 13,\n",
    "  2: 10},\n",
    " 'Superalloys': {0: 24,\n",
    "  1: 20,\n",
    "  2: 16},\n",
    " 'Lithium-ion batteries': {0: 20,\n",
    "  1: 51,\n",
    "  2: 62},\n",
    " 'Ceramics/pigment': {0: 10,\n",
    "  1: 8,\n",
    "  2: 6},\n",
    " 'Hard materials ': {0: 12,\n",
    "  1: 6,\n",
    "  2: 6}}"
   ]
  },
  {
   "cell_type": "code",
   "execution_count": 38,
   "metadata": {},
   "outputs": [],
   "source": [
    "cob_use = pd.DataFrame(Cob_use_dict)"
   ]
  },
  {
   "cell_type": "code",
   "execution_count": 39,
   "metadata": {},
   "outputs": [],
   "source": [
    "cob_use.to_excel('/mnt/c/Users/Palmira/Desktop/Ironhack/final_project/data/Cobalt/cob_use.xls', index=False)"
   ]
  },
  {
   "cell_type": "code",
   "execution_count": 23,
   "metadata": {},
   "outputs": [],
   "source": [
    "cob_use_T = pd.DataFrame(Cob_use_dict)"
   ]
  },
  {
   "cell_type": "code",
   "execution_count": 24,
   "metadata": {},
   "outputs": [],
   "source": [
    "cob_use_T = cob_use_T.T"
   ]
  },
  {
   "cell_type": "code",
   "execution_count": 30,
   "metadata": {},
   "outputs": [],
   "source": [
    "cob_use_T.rename(columns={0: 2006,1: 2016, 2: 2020}, inplace=True)"
   ]
  },
  {
   "cell_type": "code",
   "execution_count": 34,
   "metadata": {},
   "outputs": [],
   "source": [
    "cob_use_T.drop(cob_use_T[cob_use_T[2006] == 2006.00].index, inplace=True)"
   ]
  },
  {
   "cell_type": "code",
   "execution_count": 36,
   "metadata": {},
   "outputs": [],
   "source": [
    "cob_use_T.to_excel('/mnt/c/Users/Palmira/Desktop/Ironhack/final_project/data/Cobalt/cob_use_T.xls', index=False)"
   ]
  },
  {
   "cell_type": "markdown",
   "metadata": {},
   "source": [
    "## DR Congo"
   ]
  },
  {
   "cell_type": "code",
   "execution_count": 79,
   "metadata": {},
   "outputs": [],
   "source": [
    "import requests as req\n",
    "from bs4 import BeautifulSoup as bs"
   ]
  },
  {
   "cell_type": "code",
   "execution_count": 80,
   "metadata": {},
   "outputs": [],
   "source": [
    "url_congo = 'https://en.wikipedia.org/wiki/2021%E2%80%932022_Democratic_Republic_of_the_Congo_attacks'\n"
   ]
  },
  {
   "cell_type": "code",
   "execution_count": 81,
   "metadata": {},
   "outputs": [],
   "source": [
    "html = req.get(url_congo).content\n",
    "soup = bs(html, 'html.parser')\n"
   ]
  },
  {
   "cell_type": "code",
   "execution_count": 82,
   "metadata": {},
   "outputs": [],
   "source": [
    "tabla=soup.find('table',{'class': \"wikitable sortable\"})"
   ]
  },
  {
   "cell_type": "code",
   "execution_count": 83,
   "metadata": {},
   "outputs": [],
   "source": [
    "filas=tabla.find_all('tr')"
   ]
  },
  {
   "cell_type": "code",
   "execution_count": 84,
   "metadata": {},
   "outputs": [
    {
     "data": {
      "text/plain": [
       "[['Date', '', 'Location', '', 'Dead', '', 'Injured', '', 'Details'],\n",
       " ['3 January',\n",
       "  '',\n",
       "  'Mwenda, Beni territory, North Kivu',\n",
       "  '',\n",
       "  '22',\n",
       "  '',\n",
       "  'unknown',\n",
       "  '',\n",
       "  '22 people were killed when the ADF attack the village of Mwenda with machetes and guns.[21]'],\n",
       " ['5 January',\n",
       "  '',\n",
       "  'Baboa Bokoe chiefdom, Ituri',\n",
       "  '',\n",
       "  '4',\n",
       "  '',\n",
       "  'unknown',\n",
       "  '',\n",
       "  'Three civilians and one soldier was kill in a FPIC attack on three villages setting fire to multiple homes.[22]']]"
      ]
     },
     "execution_count": 84,
     "metadata": {},
     "output_type": "execute_result"
    }
   ],
   "source": [
    "filas=[f.text.strip().split('\\n') for f in filas]\n",
    "\n",
    "filas[:3]"
   ]
  },
  {
   "cell_type": "code",
   "execution_count": 85,
   "metadata": {},
   "outputs": [
    {
     "data": {
      "text/plain": [
       "[['Date', 'Location', 'Dead', 'Injured', 'Details'],\n",
       " ['3 January',\n",
       "  'Mwenda, Beni territory, North Kivu',\n",
       "  '22',\n",
       "  'unknown',\n",
       "  '22 people were killed when the ADF attack the village of Mwenda with machetes and guns.[21]'],\n",
       " ['5 January',\n",
       "  'Baboa Bokoe chiefdom, Ituri',\n",
       "  '4',\n",
       "  'unknown',\n",
       "  'Three civilians and one soldier was kill in a FPIC attack on three villages setting fire to multiple homes.[22]']]"
      ]
     },
     "execution_count": 85,
     "metadata": {},
     "output_type": "execute_result"
    }
   ],
   "source": [
    "final=[]\n",
    "\n",
    "\n",
    "for e in filas:\n",
    "    tmp=[]\n",
    "\n",
    "    for st in e:\n",
    "        if st!='':\n",
    "            tmp.append(st)\n",
    "    final.append(tmp)\n",
    "    \n",
    "final[:3]"
   ]
  },
  {
   "cell_type": "code",
   "execution_count": 89,
   "metadata": {},
   "outputs": [
    {
     "data": {
      "text/html": [
       "<div>\n",
       "<style scoped>\n",
       "    .dataframe tbody tr th:only-of-type {\n",
       "        vertical-align: middle;\n",
       "    }\n",
       "\n",
       "    .dataframe tbody tr th {\n",
       "        vertical-align: top;\n",
       "    }\n",
       "\n",
       "    .dataframe thead th {\n",
       "        text-align: right;\n",
       "    }\n",
       "</style>\n",
       "<table border=\"1\" class=\"dataframe\">\n",
       "  <thead>\n",
       "    <tr style=\"text-align: right;\">\n",
       "      <th></th>\n",
       "      <th>Date</th>\n",
       "      <th>Location</th>\n",
       "      <th>Dead</th>\n",
       "      <th>Injured</th>\n",
       "      <th>Details</th>\n",
       "    </tr>\n",
       "  </thead>\n",
       "  <tbody>\n",
       "    <tr>\n",
       "      <th>91</th>\n",
       "      <td>14 July</td>\n",
       "      <td>Batumbi, Ituri</td>\n",
       "      <td>1</td>\n",
       "      <td>1</td>\n",
       "      <td>An anti-personal mine laid by  the Ituri Patri...</td>\n",
       "    </tr>\n",
       "    <tr>\n",
       "      <th>92</th>\n",
       "      <td>15 July</td>\n",
       "      <td>Tinda Bridge, Ituri</td>\n",
       "      <td>4</td>\n",
       "      <td>2</td>\n",
       "      <td>Four people were killed and two injured near T...</td>\n",
       "    </tr>\n",
       "    <tr>\n",
       "      <th>93</th>\n",
       "      <td>15 July</td>\n",
       "      <td>Beni, North Kivu</td>\n",
       "      <td>2</td>\n",
       "      <td>0</td>\n",
       "      <td>The ADF killed two civil society members in Be...</td>\n",
       "    </tr>\n",
       "    <tr>\n",
       "      <th>94</th>\n",
       "      <td>15 July</td>\n",
       "      <td>Rujumba village, Ituri</td>\n",
       "      <td>3</td>\n",
       "      <td>0</td>\n",
       "      <td>A FPIC attack on the village of Rujumba killed...</td>\n",
       "    </tr>\n",
       "    <tr>\n",
       "      <th>95</th>\n",
       "      <td>16 July</td>\n",
       "      <td>Liva village, North Kivu</td>\n",
       "      <td>4</td>\n",
       "      <td>0</td>\n",
       "      <td>An ADF attack on farmer in the village of Liva...</td>\n",
       "    </tr>\n",
       "    <tr>\n",
       "      <th>96</th>\n",
       "      <td>2 August</td>\n",
       "      <td>Idohu, Ituri province</td>\n",
       "      <td>16</td>\n",
       "      <td>An ADF attack on civilians. Congolese soldiers...</td>\n",
       "      <td>None</td>\n",
       "    </tr>\n",
       "    <tr>\n",
       "      <th>97</th>\n",
       "      <td>27 August</td>\n",
       "      <td>Kalanguta, Beni territory</td>\n",
       "      <td>19</td>\n",
       "      <td>An attack possibly committed by the ADF. Sever...</td>\n",
       "      <td>None</td>\n",
       "    </tr>\n",
       "    <tr>\n",
       "      <th>98</th>\n",
       "      <td>3 September</td>\n",
       "      <td>Makutano, Ituri province</td>\n",
       "      <td>30</td>\n",
       "      <td>ADF machete attack on a village north of Oicha...</td>\n",
       "      <td>None</td>\n",
       "    </tr>\n",
       "    <tr>\n",
       "      <th>99</th>\n",
       "      <td>21 November</td>\n",
       "      <td>Drodro refugee camp, Ituri province</td>\n",
       "      <td>44</td>\n",
       "      <td>An ADF massacre against a refugee camp in Itur...</td>\n",
       "      <td>None</td>\n",
       "    </tr>\n",
       "    <tr>\n",
       "      <th>100</th>\n",
       "      <td>25 December</td>\n",
       "      <td>In Box restaurant, Beni</td>\n",
       "      <td>7</td>\n",
       "      <td>13</td>\n",
       "      <td>ADF suicide bomb[119]</td>\n",
       "    </tr>\n",
       "  </tbody>\n",
       "</table>\n",
       "</div>"
      ],
      "text/plain": [
       "            Date                             Location Dead  \\\n",
       "91       14 July                       Batumbi, Ituri    1   \n",
       "92       15 July                  Tinda Bridge, Ituri    4   \n",
       "93       15 July                     Beni, North Kivu    2   \n",
       "94       15 July               Rujumba village, Ituri    3   \n",
       "95       16 July             Liva village, North Kivu    4   \n",
       "96      2 August                Idohu, Ituri province   16   \n",
       "97     27 August            Kalanguta, Beni territory   19   \n",
       "98   3 September             Makutano, Ituri province   30   \n",
       "99   21 November  Drodro refugee camp, Ituri province   44   \n",
       "100  25 December              In Box restaurant, Beni    7   \n",
       "\n",
       "                                               Injured  \\\n",
       "91                                                   1   \n",
       "92                                                   2   \n",
       "93                                                   0   \n",
       "94                                                   0   \n",
       "95                                                   0   \n",
       "96   An ADF attack on civilians. Congolese soldiers...   \n",
       "97   An attack possibly committed by the ADF. Sever...   \n",
       "98   ADF machete attack on a village north of Oicha...   \n",
       "99   An ADF massacre against a refugee camp in Itur...   \n",
       "100                                                 13   \n",
       "\n",
       "                                               Details  \n",
       "91   An anti-personal mine laid by  the Ituri Patri...  \n",
       "92   Four people were killed and two injured near T...  \n",
       "93   The ADF killed two civil society members in Be...  \n",
       "94   A FPIC attack on the village of Rujumba killed...  \n",
       "95   An ADF attack on farmer in the village of Liva...  \n",
       "96                                                None  \n",
       "97                                                None  \n",
       "98                                                None  \n",
       "99                                                None  \n",
       "100                              ADF suicide bomb[119]  "
      ]
     },
     "execution_count": 89,
     "metadata": {},
     "output_type": "execute_result"
    }
   ],
   "source": [
    "import pandas as pd\n",
    "import numpy as np\n",
    "\n",
    "col_names=final[0]\n",
    "\n",
    "data=final[1:]\n",
    "\n",
    "df=pd.DataFrame(data, columns=col_names)\n",
    "\n",
    "df.tail(10)"
   ]
  },
  {
   "cell_type": "code",
   "execution_count": 90,
   "metadata": {},
   "outputs": [],
   "source": [
    "df.replace(to_replace=[None], value='unknown', inplace=True)"
   ]
  },
  {
   "cell_type": "code",
   "execution_count": 91,
   "metadata": {},
   "outputs": [
    {
     "data": {
      "text/plain": [
       "Date        0\n",
       "Location    0\n",
       "Dead        0\n",
       "Injured     0\n",
       "Details     0\n",
       "dtype: int64"
      ]
     },
     "execution_count": 91,
     "metadata": {},
     "output_type": "execute_result"
    }
   ],
   "source": [
    "df.isna().sum()"
   ]
  },
  {
   "cell_type": "code",
   "execution_count": 95,
   "metadata": {},
   "outputs": [
    {
     "data": {
      "text/plain": [
       "array(['22', '4', '6 (+2)', '2 (+2)', '3 (+2)', '15', '46', '16 (+4)',\n",
       "       '1', '0', '10', '2', '12', '5 (+6)', '14', '10(+6)', '3', '1(+1)',\n",
       "       '11', '7', '16', '3 (+16)', '14 (+2)', '8', '17', '5', '16 (+1)',\n",
       "       '2 (+1)', '4 (+3)', '29 (+2)', 'unknown', '2 (+5)', '9', '13', '6',\n",
       "       '2(+1)', '21', '3(+1)', '26', '60+', '8 (+22)', '18', '19', '30',\n",
       "       '44'], dtype=object)"
      ]
     },
     "execution_count": 95,
     "metadata": {},
     "output_type": "execute_result"
    }
   ],
   "source": [
    "df.Dead.unique()"
   ]
  },
  {
   "cell_type": "code",
   "execution_count": null,
   "metadata": {},
   "outputs": [],
   "source": []
  }
 ],
 "metadata": {
  "kernelspec": {
   "display_name": "ironhack",
   "language": "python",
   "name": "ironhack"
  },
  "language_info": {
   "codemirror_mode": {
    "name": "ipython",
    "version": 3
   },
   "file_extension": ".py",
   "mimetype": "text/x-python",
   "name": "python",
   "nbconvert_exporter": "python",
   "pygments_lexer": "ipython3",
   "version": "3.8.5"
  }
 },
 "nbformat": 4,
 "nbformat_minor": 4
}
