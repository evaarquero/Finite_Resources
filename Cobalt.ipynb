{
 "cells": [
  {
   "cell_type": "code",
   "execution_count": 1,
   "metadata": {},
   "outputs": [],
   "source": [
    "import pandas as pd\n",
    "import seaborn as sns\n",
    "import matplotlib.pyplot as plt\n",
    "import regex as re\n",
    "sns.set_context(\"poster\")\n",
    "sns.set(rc={\"figure.figsize\": (11.7,8.27)})\n",
    "sns.set_style(\"whitegrid\")\n",
    "%matplotlib inline"
   ]
  },
  {
   "cell_type": "markdown",
   "metadata": {},
   "source": [
    "# Cobalt"
   ]
  },
  {
   "cell_type": "code",
   "execution_count": 3,
   "metadata": {},
   "outputs": [
    {
     "name": "stdout",
     "output_type": "stream",
     "text": [
      "(148, 6)\n"
     ]
    },
    {
     "data": {
      "text/html": [
       "<div>\n",
       "<style scoped>\n",
       "    .dataframe tbody tr th:only-of-type {\n",
       "        vertical-align: middle;\n",
       "    }\n",
       "\n",
       "    .dataframe tbody tr th {\n",
       "        vertical-align: top;\n",
       "    }\n",
       "\n",
       "    .dataframe thead th {\n",
       "        text-align: right;\n",
       "    }\n",
       "</style>\n",
       "<table border=\"1\" class=\"dataframe\">\n",
       "  <thead>\n",
       "    <tr style=\"text-align: right;\">\n",
       "      <th></th>\n",
       "      <th>Continent ID</th>\n",
       "      <th>Continent</th>\n",
       "      <th>Country ID</th>\n",
       "      <th>Country</th>\n",
       "      <th>ISO 3</th>\n",
       "      <th>Trade Value</th>\n",
       "    </tr>\n",
       "  </thead>\n",
       "  <tbody>\n",
       "    <tr>\n",
       "      <th>143</th>\n",
       "      <td>sa</td>\n",
       "      <td>South America</td>\n",
       "      <td>saguy</td>\n",
       "      <td>Guyana</td>\n",
       "      <td>guy</td>\n",
       "      <td>77376.0</td>\n",
       "    </tr>\n",
       "    <tr>\n",
       "      <th>144</th>\n",
       "      <td>sa</td>\n",
       "      <td>South America</td>\n",
       "      <td>saper</td>\n",
       "      <td>Peru</td>\n",
       "      <td>per</td>\n",
       "      <td>166909.0</td>\n",
       "    </tr>\n",
       "    <tr>\n",
       "      <th>145</th>\n",
       "      <td>sa</td>\n",
       "      <td>South America</td>\n",
       "      <td>sapry</td>\n",
       "      <td>Paraguay</td>\n",
       "      <td>pry</td>\n",
       "      <td>15185.0</td>\n",
       "    </tr>\n",
       "    <tr>\n",
       "      <th>146</th>\n",
       "      <td>sa</td>\n",
       "      <td>South America</td>\n",
       "      <td>sasur</td>\n",
       "      <td>Suriname</td>\n",
       "      <td>sur</td>\n",
       "      <td>4351.0</td>\n",
       "    </tr>\n",
       "    <tr>\n",
       "      <th>147</th>\n",
       "      <td>sa</td>\n",
       "      <td>South America</td>\n",
       "      <td>saury</td>\n",
       "      <td>Uruguay</td>\n",
       "      <td>ury</td>\n",
       "      <td>81620.0</td>\n",
       "    </tr>\n",
       "  </tbody>\n",
       "</table>\n",
       "</div>"
      ],
      "text/plain": [
       "    Continent ID      Continent Country ID   Country ISO 3  Trade Value\n",
       "143           sa  South America      saguy    Guyana   guy      77376.0\n",
       "144           sa  South America      saper      Peru   per     166909.0\n",
       "145           sa  South America      sapry  Paraguay   pry      15185.0\n",
       "146           sa  South America      sasur  Suriname   sur       4351.0\n",
       "147           sa  South America      saury   Uruguay   ury      81620.0"
      ]
     },
     "execution_count": 3,
     "metadata": {},
     "output_type": "execute_result"
    }
   ],
   "source": [
    "cob_importers = pd.read_csv('data/Cobalt/Importers-of-Cobalt-2019.csv')\n",
    "print(cob_importers.shape)\n",
    "\n",
    "cob_importers.tail()"
   ]
  },
  {
   "cell_type": "code",
   "execution_count": 5,
   "metadata": {},
   "outputs": [],
   "source": [
    "cob_importers.to_excel('/mnt/c/Users/Palmira/Desktop/Ironhack/final_project/data/Cobalt/cob_importers.xls', index=False)"
   ]
  },
  {
   "cell_type": "code",
   "execution_count": 7,
   "metadata": {},
   "outputs": [
    {
     "name": "stdout",
     "output_type": "stream",
     "text": [
      "(534, 7)\n"
     ]
    },
    {
     "data": {
      "text/html": [
       "<div>\n",
       "<style scoped>\n",
       "    .dataframe tbody tr th:only-of-type {\n",
       "        vertical-align: middle;\n",
       "    }\n",
       "\n",
       "    .dataframe tbody tr th {\n",
       "        vertical-align: top;\n",
       "    }\n",
       "\n",
       "    .dataframe thead th {\n",
       "        text-align: right;\n",
       "    }\n",
       "</style>\n",
       "<table border=\"1\" class=\"dataframe\">\n",
       "  <thead>\n",
       "    <tr style=\"text-align: right;\">\n",
       "      <th></th>\n",
       "      <th>Date</th>\n",
       "      <th>Price</th>\n",
       "      <th>Open</th>\n",
       "      <th>High</th>\n",
       "      <th>Low</th>\n",
       "      <th>Vol.</th>\n",
       "      <th>Change %</th>\n",
       "    </tr>\n",
       "  </thead>\n",
       "  <tbody>\n",
       "    <tr>\n",
       "      <th>529</th>\n",
       "      <td>Jan 15 2012</td>\n",
       "      <td>33290.0</td>\n",
       "      <td>33290.0</td>\n",
       "      <td>33290.0</td>\n",
       "      <td>33290.0</td>\n",
       "      <td>0.03K</td>\n",
       "      <td>0.14</td>\n",
       "    </tr>\n",
       "    <tr>\n",
       "      <th>530</th>\n",
       "      <td>Jan 08 2012</td>\n",
       "      <td>33242.0</td>\n",
       "      <td>33242.0</td>\n",
       "      <td>33242.0</td>\n",
       "      <td>33242.0</td>\n",
       "      <td>0.07K</td>\n",
       "      <td>4.01</td>\n",
       "    </tr>\n",
       "    <tr>\n",
       "      <th>531</th>\n",
       "      <td>Jan 01 2012</td>\n",
       "      <td>31959.0</td>\n",
       "      <td>31959.0</td>\n",
       "      <td>31959.0</td>\n",
       "      <td>31959.0</td>\n",
       "      <td>-</td>\n",
       "      <td>6.64</td>\n",
       "    </tr>\n",
       "    <tr>\n",
       "      <th>532</th>\n",
       "      <td>Dec 25 2011</td>\n",
       "      <td>29970.0</td>\n",
       "      <td>29970.0</td>\n",
       "      <td>29970.0</td>\n",
       "      <td>29970.0</td>\n",
       "      <td>-</td>\n",
       "      <td>-4.20</td>\n",
       "    </tr>\n",
       "    <tr>\n",
       "      <th>533</th>\n",
       "      <td>Dec 18 2011</td>\n",
       "      <td>31284.0</td>\n",
       "      <td>31284.0</td>\n",
       "      <td>31284.0</td>\n",
       "      <td>31284.0</td>\n",
       "      <td>0.51K</td>\n",
       "      <td>-1.93</td>\n",
       "    </tr>\n",
       "  </tbody>\n",
       "</table>\n",
       "</div>"
      ],
      "text/plain": [
       "            Date    Price     Open     High      Low   Vol.  Change %\n",
       "529  Jan 15 2012  33290.0  33290.0  33290.0  33290.0  0.03K      0.14\n",
       "530  Jan 08 2012  33242.0  33242.0  33242.0  33242.0  0.07K      4.01\n",
       "531  Jan 01 2012  31959.0  31959.0  31959.0  31959.0      -      6.64\n",
       "532  Dec 25 2011  29970.0  29970.0  29970.0  29970.0      -     -4.20\n",
       "533  Dec 18 2011  31284.0  31284.0  31284.0  31284.0  0.51K     -1.93"
      ]
     },
     "execution_count": 7,
     "metadata": {},
     "output_type": "execute_result"
    }
   ],
   "source": [
    "cob_price = pd.read_csv('data/Cobalt/Cobalt Futures Historical Data.csv')\n",
    "print(cob_price.shape)\n",
    "\n",
    "cob_price.tail()"
   ]
  },
  {
   "cell_type": "code",
   "execution_count": 8,
   "metadata": {},
   "outputs": [],
   "source": [
    "cob_price.drop(axis=0, index=None, columns = ['Vol.'],inplace=True)"
   ]
  },
  {
   "cell_type": "code",
   "execution_count": 9,
   "metadata": {},
   "outputs": [],
   "source": [
    "cob_price.to_excel('/mnt/c/Users/Palmira/Desktop/Ironhack/final_project/data/Cobalt/cob_price.xls', index=False)"
   ]
  },
  {
   "cell_type": "markdown",
   "metadata": {},
   "source": [
    "Data on usage:"
   ]
  },
  {
   "cell_type": "code",
   "execution_count": 37,
   "metadata": {},
   "outputs": [],
   "source": [
    "Cob_use_dict = {'Year': {0: 2006,\n",
    "  1: 2016,\n",
    "  2: 2020},\n",
    " 'Other': {0: 34,\n",
    "  1: 13,\n",
    "  2: 10},\n",
    " 'Superalloys': {0: 24,\n",
    "  1: 20,\n",
    "  2: 16},\n",
    " 'Lithium-ion batteries': {0: 20,\n",
    "  1: 51,\n",
    "  2: 62},\n",
    " 'Ceramics/pigment': {0: 10,\n",
    "  1: 8,\n",
    "  2: 6},\n",
    " 'Hard materials ': {0: 12,\n",
    "  1: 6,\n",
    "  2: 6}}"
   ]
  },
  {
   "cell_type": "code",
   "execution_count": 38,
   "metadata": {},
   "outputs": [],
   "source": [
    "cob_use = pd.DataFrame(Cob_use_dict)"
   ]
  },
  {
   "cell_type": "code",
   "execution_count": 39,
   "metadata": {},
   "outputs": [],
   "source": [
    "cob_use.to_excel('/mnt/c/Users/Palmira/Desktop/Ironhack/final_project/data/Cobalt/cob_use.xls', index=False)"
   ]
  },
  {
   "cell_type": "code",
   "execution_count": 23,
   "metadata": {},
   "outputs": [],
   "source": [
    "cob_use_T = pd.DataFrame(Cob_use_dict)"
   ]
  },
  {
   "cell_type": "code",
   "execution_count": 24,
   "metadata": {},
   "outputs": [],
   "source": [
    "cob_use_T = cob_use_T.T"
   ]
  },
  {
   "cell_type": "code",
   "execution_count": 30,
   "metadata": {},
   "outputs": [],
   "source": [
    "cob_use_T.rename(columns={0: 2006,1: 2016, 2: 2020}, inplace=True)"
   ]
  },
  {
   "cell_type": "code",
   "execution_count": 34,
   "metadata": {},
   "outputs": [],
   "source": [
    "cob_use_T.drop(cob_use_T[cob_use_T[2006] == 2006.00].index, inplace=True)"
   ]
  },
  {
   "cell_type": "code",
   "execution_count": 36,
   "metadata": {},
   "outputs": [],
   "source": [
    "cob_use_T.to_excel('/mnt/c/Users/Palmira/Desktop/Ironhack/final_project/data/Cobalt/cob_use_T.xls', index=False)"
   ]
  },
  {
   "cell_type": "markdown",
   "metadata": {},
   "source": [
    "## DR Congo"
   ]
  },
  {
   "cell_type": "code",
   "execution_count": null,
   "metadata": {},
   "outputs": [],
   "source": []
  }
 ],
 "metadata": {
  "kernelspec": {
   "display_name": "ironhack",
   "language": "python",
   "name": "ironhack"
  },
  "language_info": {
   "codemirror_mode": {
    "name": "ipython",
    "version": 3
   },
   "file_extension": ".py",
   "mimetype": "text/x-python",
   "name": "python",
   "nbconvert_exporter": "python",
   "pygments_lexer": "ipython3",
   "version": "3.8.5"
  }
 },
 "nbformat": 4,
 "nbformat_minor": 4
}
